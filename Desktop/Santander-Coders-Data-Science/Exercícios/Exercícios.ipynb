{
 "cells": [
  {
   "cell_type": "markdown",
   "id": "7fb788d9",
   "metadata": {},
   "source": [
    "# Questão 1.\n",
    "Faça um programa que peça ao usuário um número e imprima todos os números de um até o\n",
    "número que o usuário informar"
   ]
  },
  {
   "cell_type": "code",
   "execution_count": 3,
   "id": "e9bb7865",
   "metadata": {},
   "outputs": [
    {
     "name": "stdout",
     "output_type": "stream",
     "text": [
      "Digite um valor inteiro: 5\n",
      "1\n",
      "2\n",
      "3\n",
      "4\n",
      "5\n"
     ]
    }
   ],
   "source": [
    "x = 0\n",
    "valor = int(input('Digite um valor inteiro: '))\n",
    "\n",
    "while x < valor:\n",
    "    x += 1\n",
    "    print(x)"
   ]
  },
  {
   "cell_type": "markdown",
   "id": "e47b1a60",
   "metadata": {},
   "source": [
    "# Questão 2.\n",
    "Crie um programa que leia um valor qualquer e apresente uma mensagem dizendo em qual\n",
    "dos seguintes intervalos ([0,25], (25,50], (50,75], (75,100]) este valor se encontra. Caso o valor não\n",
    "esteja em nenhum destes intervalos, deverá ser impressa a mensagem “Fora de intervalo”. Veja\n",
    "alguns exemplo abaixo:"
   ]
  },
  {
   "cell_type": "code",
   "execution_count": 4,
   "id": "7ae71333",
   "metadata": {},
   "outputs": [],
   "source": [
    "def esta_contido(x):\n",
    "    if x in range(0,26):\n",
    "        print(f'o valor {x} está contido no intervalo [0,25]')\n",
    "    elif x in range(26,51):\n",
    "        print(f'o valor {x} está contido no intervalo [25,50]')\n",
    "    elif x in range(51,76):\n",
    "        print(f'o valor {x} está contido no intervalo [50,75]')\n",
    "    elif x in range(76,101):\n",
    "        print(f'o valor {x} está contido no intervalo [75,100]')\n",
    "    else:\n",
    "        print(f'O valor {x} está fora do intervalo')\n",
    "        "
   ]
  },
  {
   "cell_type": "code",
   "execution_count": 10,
   "id": "8f1f79a9",
   "metadata": {},
   "outputs": [
    {
     "name": "stdout",
     "output_type": "stream",
     "text": [
      "o valor 0 está contido no intervalo [0,25]\n",
      "o valor 25 está contido no intervalo [0,25]\n",
      "o valor 26 está contido no intervalo [25,50]\n",
      "o valor 50 está contido no intervalo [25,50]\n",
      "o valor 51 está contido no intervalo [50,75]\n",
      "o valor 75 está contido no intervalo [50,75]\n",
      "o valor 76 está contido no intervalo [75,100]\n",
      "o valor 100 está contido no intervalo [75,100]\n",
      "O valor 101 está fora do intervalo\n"
     ]
    }
   ],
   "source": [
    "esta_contido(0)\n",
    "esta_contido(25)\n",
    "esta_contido(26)\n",
    "esta_contido(50)\n",
    "esta_contido(51)\n",
    "esta_contido(75)\n",
    "esta_contido(76)\n",
    "esta_contido(100)\n",
    "esta_contido(101)"
   ]
  },
  {
   "cell_type": "markdown",
   "id": "5124caa2",
   "metadata": {},
   "source": [
    "# Questão 3.\n",
    "Crie uma função que recebe o valor do raio de um círculo como parâmetro e retorna o valor da\n",
    "área desse círculo. Lembrando que a área de círculo é dada pela equação: A = ℼ r^2."
   ]
  },
  {
   "cell_type": "code",
   "execution_count": 13,
   "id": "d2c6a4d1",
   "metadata": {},
   "outputs": [],
   "source": [
    "from math import pi\n",
    "\n",
    "def area_circulo(raio):\n",
    "    A = pi * raio**2\n",
    "    print(f'A área do círculo é: {round(A,2)}') "
   ]
  },
  {
   "cell_type": "code",
   "execution_count": 15,
   "id": "0e31b587",
   "metadata": {},
   "outputs": [
    {
     "name": "stdout",
     "output_type": "stream",
     "text": [
      "A área do círculo é: 28.27\n"
     ]
    }
   ],
   "source": [
    "area_circulo(3)"
   ]
  },
  {
   "cell_type": "markdown",
   "id": "5d1cd9a6",
   "metadata": {},
   "source": [
    "# Questão 4.\n",
    "Faça um programa que peça 2 números inteiros e um número real, calcule e mostre:\n",
    "a) o produto entre o dobro do primeiro e a metade do segundo.\n",
    "b) a soma entre o triplo do primeiro e o terceiro.\n",
    "c) o terceiro elevado ao cubo."
   ]
  },
  {
   "cell_type": "code",
   "execution_count": 102,
   "id": "f5f6be5b",
   "metadata": {},
   "outputs": [],
   "source": [
    "def numeros(intA, intB, real):\n",
    "    print(f'a) o produto entre o dobro do primeiro ({intA}) e a metade do segundo ({intB}) é: {intA*2 * (intB/2)}')\n",
    "    print(f'b) a soma entre o triplo do primeiro ({intA}) e o terceiro ({real}) é: {(intA * 3) + real}')\n",
    "    print(f'c) o terceiro ({real}) elevado ao cubo é: ({round(real**3,3)})')"
   ]
  },
  {
   "cell_type": "code",
   "execution_count": 103,
   "id": "ff5e2295",
   "metadata": {},
   "outputs": [
    {
     "name": "stdout",
     "output_type": "stream",
     "text": [
      "a) o produto entre o dobro do primeiro (5) e a metade do segundo (8) é: 40.0\n",
      "b) a soma entre o triplo do primeiro (5) e o terceiro (10.75) é: 25.75\n",
      "c) o terceiro (10.75) elevado ao cubo é: (1242.297)\n"
     ]
    }
   ],
   "source": [
    "numeros(5,8,10.75)"
   ]
  },
  {
   "cell_type": "markdown",
   "id": "32f0d98e",
   "metadata": {},
   "source": [
    "# Questão 5.\n",
    "Vamos fazer um programa para verificar quem é o assassino de um crime. Para descobrir o\n",
    "assassino, a polícia faz um pequeno questionário com 5 perguntas onde a resposta só pode ser\n",
    "sim ou não:\n",
    "- 1. Mora perto da vítima?\n",
    "- 2. Já trabalhou com a vítima?\n",
    "- 3. Telefonou para a vítima?\n",
    "- 4. Esteve no local do crime?\n",
    "- 5. Devia para a vítima?\n",
    "\n",
    "Cada resposta sim dá um ponto para o suspeito. A polícia considera que os suspeitos com 5\n",
    "pontos são os assassinos, com 4 a 3 pontos são cúmplices e 2 pontos são apenas suspeitos,\n",
    "necessitando de outras investigações. Valores abaixo de 2 são liberados.\n",
    "No seu programa, você deve fazer essas perguntas e, de acordo com as respostas do usuário,\n",
    "você vai informar como a polícia o considera."
   ]
  },
  {
   "cell_type": "code",
   "execution_count": 86,
   "id": "d06f5a5d",
   "metadata": {},
   "outputs": [],
   "source": [
    "def perguntas_crime():\n",
    "    print('Responda somente com \"sim\" ou \"não\"')\n",
    "    a = input('Mora perto da vítima? ')\n",
    "    b = input('Já trabalhou com a vítima? ')\n",
    "    c = input('Telefonou para a vítima? ')\n",
    "    d = input('Esteve no local do crime? ')\n",
    "    e = input('Devia para a vítima? ')\n",
    "    \n",
    "    respostas = [a.upper(),b.upper(),c.upper(),d.upper(),e.upper()]   \n",
    "    \n",
    "    for x in respostas:        \n",
    "        sim = int(respostas.count(\"SIM\"))\n",
    "        não = int(respostas.count(\"NÃO\"))\n",
    "        \n",
    "    print()    \n",
    "    print(f'Pontuação do teste: {sim} pontos')\n",
    "    print('Resultado:')\n",
    "    \n",
    "    if sim == 5:\n",
    "        print(\"O indivíduo é o assasino\")\n",
    "    elif sim == 3 or sim ==4:\n",
    "        print(\"O indivíduo é um cumplíce\")\n",
    "    elif sim == 2:\n",
    "        print(\"O indivíduo é o assasino\")\n",
    "    elif sim < 2:\n",
    "        print(\"O indivíduo deve ser liberado\")"
   ]
  },
  {
   "cell_type": "code",
   "execution_count": 87,
   "id": "4c3b66e0",
   "metadata": {},
   "outputs": [
    {
     "name": "stdout",
     "output_type": "stream",
     "text": [
      "Responda somente com \"sim\" ou \"não\"\n",
      "Mora perto da vítima? não\n",
      "Já trabalhou com a vítima? não\n",
      "Telefonou para a vítima? não\n",
      "Esteve no local do crime? não\n",
      "Devia para a vítima? não\n",
      "\n",
      "Pontuação do teste: 0 pontos\n",
      "Resultado:\n",
      "O indivíduo deve ser liberado\n"
     ]
    }
   ],
   "source": [
    "perguntas_crime()"
   ]
  },
  {
   "cell_type": "markdown",
   "id": "3378c63a",
   "metadata": {},
   "source": [
    "# Questão 6.\n",
    "Faça uma função que recebe uma lista de números e retorna a soma dos elementos dessa lista"
   ]
  },
  {
   "cell_type": "code",
   "execution_count": 54,
   "id": "25e41933",
   "metadata": {},
   "outputs": [],
   "source": [
    "def soma_lista(a):\n",
    "    x = 0\n",
    "    for y in a:\n",
    "        x+=y  \n",
    "    return print(f'A soma da lista é: {x}')  "
   ]
  },
  {
   "cell_type": "code",
   "execution_count": 55,
   "id": "4277533a",
   "metadata": {},
   "outputs": [
    {
     "name": "stdout",
     "output_type": "stream",
     "text": [
      "A soma da lista é: 15\n"
     ]
    }
   ],
   "source": [
    "lista = [1,2,3,4,5]\n",
    "soma_lista(lista)"
   ]
  },
  {
   "cell_type": "markdown",
   "id": "60ca067c",
   "metadata": {},
   "source": [
    "# Questão 7.\n",
    "Faça um programa que leia as coordenadas de 2 (dois) pontos em um plano cartesiano 2D: a\n",
    "coordenada x do primeiro ponto (x_1), a coordenada y do primeiro ponto (y_1), a coordenada x do\n",
    "segundo ponto (x_2) e a coordenada y do segundo ponto (y_2). Em seguida, calcule a distância\n",
    "euclidiana entre os pontos, utilizando a equação abaixo:\n",
    "\n",
    "𝑑 = (𝑥2 − 𝑥1)² + (𝑦2 − 𝑦1)²"
   ]
  },
  {
   "cell_type": "code",
   "execution_count": null,
   "id": "696272a0",
   "metadata": {},
   "outputs": [],
   "source": []
  }
 ],
 "metadata": {
  "kernelspec": {
   "display_name": "Python 3 (ipykernel)",
   "language": "python",
   "name": "python3"
  },
  "language_info": {
   "codemirror_mode": {
    "name": "ipython",
    "version": 3
   },
   "file_extension": ".py",
   "mimetype": "text/x-python",
   "name": "python",
   "nbconvert_exporter": "python",
   "pygments_lexer": "ipython3",
   "version": "3.9.12"
  }
 },
 "nbformat": 4,
 "nbformat_minor": 5
}
